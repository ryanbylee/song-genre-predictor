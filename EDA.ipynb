{
 "cells": [
  {
   "cell_type": "markdown",
   "metadata": {},
   "source": [
    "# Exploratory Data Analysis (EDA), Visualization, and Splitting into Train/Test Sets"
   ]
  },
  {
   "cell_type": "code",
   "execution_count": 17,
   "metadata": {},
   "outputs": [],
   "source": [
    "import pandas as pd\n",
    "import numpy as np"
   ]
  },
  {
   "cell_type": "code",
   "execution_count": 18,
   "metadata": {},
   "outputs": [],
   "source": [
    "# load the dataset\n",
    "df = pd.read_csv(\"hf://datasets/maharshipandya/spotify-tracks-dataset/dataset.csv\")"
   ]
  },
  {
   "cell_type": "markdown",
   "metadata": {},
   "source": [
    "### Data Cleaning"
   ]
  },
  {
   "cell_type": "code",
   "execution_count": 19,
   "metadata": {},
   "outputs": [],
   "source": [
    "# remove all rows with missing values\n",
    "df.dropna(inplace=True) \n",
    "\n",
    "# remove all duplicate values based on track name and artist name\n",
    "df.drop_duplicates(subset=['track_name', 'artists'], inplace=True)"
   ]
  },
  {
   "cell_type": "markdown",
   "metadata": {},
   "source": [
    "### Genre Mapping"
   ]
  },
  {
   "cell_type": "code",
   "execution_count": 20,
   "metadata": {},
   "outputs": [],
   "source": [
    "genres = ['acoustic' 'afrobeat' 'alt-rock' 'alternative' 'ambient' 'anime'\n",
    "    'black-metal' 'bluegrass' 'blues' 'brazil' 'breakbeat' 'british'\n",
    "    'cantopop' 'chicago-house' 'children' 'chill' 'classical' 'club' 'comedy'\n",
    "    'country' 'dance' 'dancehall' 'death-metal' 'deep-house' 'detroit-techno'\n",
    "    'disco' 'disney' 'drum-and-bass' 'dub' 'dubstep' 'edm' 'electro'\n",
    "    'electronic' 'emo' 'folk' 'forro' 'french' 'funk' 'garage' 'german'\n",
    "    'gospel' 'goth' 'grindcore' 'groove' 'grunge' 'guitar' 'happy'\n",
    "    'hard-rock' 'hardcore' 'hardstyle' 'heavy-metal' 'hip-hop' 'honky-tonk'\n",
    "    'house' 'idm' 'indian' 'indie-pop' 'indie' 'industrial' 'iranian'\n",
    "    'j-dance' 'j-idol' 'j-pop' 'j-rock' 'jazz' 'k-pop' 'kids' 'latin'\n",
    "    'latino' 'malay' 'mandopop' 'metal' 'metalcore' 'minimal-techno' 'mpb'\n",
    "    'new-age' 'opera' 'pagode' 'party' 'piano' 'pop-film' 'pop' 'power-pop'\n",
    "    'progressive-house' 'psych-rock' 'punk-rock' 'punk' 'r-n-b' 'reggae'\n",
    "    'reggaeton' 'rock-n-roll' 'rock' 'rockabilly' 'romance' 'sad' 'salsa'\n",
    "    'samba' 'sertanejo' 'show-tunes' 'singer-songwriter' 'ska' 'sleep'\n",
    "    'songwriter' 'soul' 'spanish' 'study' 'swedish' 'synth-pop' 'tango'\n",
    "    'techno' 'trance' 'trip-hop' 'turkish' 'world-music'\n",
    " ]\n",
    "\n",
    "genre_mapping = {\n",
    "    \"rock_alt_metal\": [\n",
    "        \"alt-rock\", \"alternative\", \"black-metal\", \"death-metal\", \"emo\", \"goth\",\n",
    "        \"grindcore\", \"grunge\", \"hard-rock\", \"hardcore\", \"heavy-metal\", \"metal\",\n",
    "        \"metalcore\", \"psych-rock\", \"punk-rock\", \"punk\", \"rock\", \"rock-n-roll\", \"hardstyle\", \"j-rock\", \"rockabilly\"\n",
    "    ],\n",
    "    \"pop_indie\": [\n",
    "        \"pop\", \"power-pop\", \"pop-film\", \"indie\", \"indie-pop\", \"j-pop\", \"k-pop\",\n",
    "        \"cantopop\", \"mandopop\", \"synth-pop\"\n",
    "    ],\n",
    "    \"electronic_dance\": [\n",
    "        \"edm\", \"dance\", \"electro\", \"electronic\", \"trance\", \"techno\",\n",
    "        \"detroit-techno\", \"chicago-house\", \"progressive-house\", \"deep-house\",\n",
    "        \"house\", \"minimal-techno\", \"dubstep\", \"drum-and-bass\", \"breakbeat\",\n",
    "        \"dub\", \"idm\", \"disco\", \"garage\", \"groove\"\n",
    "    ],\n",
    "    \"hiphop_rnb\": [\n",
    "        \"hip-hop\", \"r-n-b\", \"soul\", \"funk\"\n",
    "    ],\n",
    "    \"jazz_classical\": [\n",
    "        \"jazz\", \"blues\", \"classical\", \"piano\"\n",
    "    ],\n",
    "    \"country_folk\": [\n",
    "        \"country\", \"folk\", \"bluegrass\", \"honky-tonk\", \"singer-songwriter\",\n",
    "        \"songwriter\", \"acoustic\"\n",
    "    ],\n",
    "    \"latin_world\": [\n",
    "        \"latin\", \"latino\", \"afrobeat\", \"brazil\", \"mpb\", \"samba\", \"salsa\", \"tango\",\n",
    "        \"pagode\", \"forro\", \"sertanejo\", \"reggaeton\", \"indian\", \"iranian\",\n",
    "        \"turkish\", \"french\", \"german\", \"british\", \"swedish\", \"malay\", \"world-music\"\n",
    "    ],\n",
    "    \"reggae\": [\n",
    "        \"reggae\", \"dancehall\"\n",
    "    ],\n",
    "    \"ambient_chill\": [\n",
    "        \"ambient\", \"chill\", \"new-age\", \"trip-hop\"\n",
    "    ],\n",
    "    \"thematic\": [\n",
    "        \"anime\", \"children\", \"comedy\", \"club\", \"disney\", \"gospel\", \"guitar\",\n",
    "        \"happy\", \"industrial\", \"j-dance\", \"j-idol\", \"kids\", \"opera\", \"party\",\n",
    "        \"romance\", \"sad\", \"show-tunes\", \"ska\", \"sleep\", \"spanish\", \"study\"\n",
    "    ]\n",
    "}\n",
    "\n",
    "\n",
    "flattened_mapping = {genre: category for category, subgenres in genre_mapping.items() for genre in subgenres}\n",
    "\n",
    "df['track_genre'] = df['track_genre'].apply(lambda x: flattened_mapping[x])\n",
    "\n"
   ]
  },
  {
   "cell_type": "code",
   "execution_count": 23,
   "metadata": {},
   "outputs": [
    {
     "name": "stdout",
     "output_type": "stream",
     "text": [
      "10\n"
     ]
    }
   ],
   "source": [
    "print(len(df['track_genre'].unique()))"
   ]
  },
  {
   "cell_type": "markdown",
   "metadata": {},
   "source": [
    "### Distributions of Modes for Each Genre"
   ]
  },
  {
   "cell_type": "code",
   "execution_count": 24,
   "metadata": {},
   "outputs": [
    {
     "name": "stdout",
     "output_type": "stream",
     "text": [
      "track_genre\n",
      "ambient_chill       0.594100\n",
      "country_folk        0.846171\n",
      "electronic_dance    0.543395\n",
      "hiphop_rnb          0.543807\n",
      "jazz_classical      0.713617\n",
      "latin_world         0.620362\n",
      "pop_indie           0.671976\n",
      "reggae              0.517518\n",
      "rock_alt_metal      0.619785\n",
      "thematic            0.667246\n",
      "Name: mode, dtype: float64\n"
     ]
    },
    {
     "data": {
      "text/plain": [
       "<Axes: xlabel='track_genre'>"
      ]
     },
     "execution_count": 24,
     "metadata": {},
     "output_type": "execute_result"
    },
    {
     "data": {
      "image/png": "[encoded data removed]",
      "text/plain": [
       "<Figure size 640x480 with 1 Axes>"
      ]
     },
     "metadata": {},
     "output_type": "display_data"
    }
   ],
   "source": [
    "# get the number of genres in the dataset\n",
    "\n",
    "# Group the dataset by genre, and get the percentage of tracks that has Mode value of 1\n",
    "print(df.groupby('track_genre')['mode'].mean())\n",
    "\n",
    "# visualize the percentage of modes of each genre, by plotting a histogram of the track genres\n",
    "df.groupby('track_genre')['mode'].mean().plot(kind='bar')"
   ]
  },
  {
   "cell_type": "markdown",
   "metadata": {},
   "source": [
    "### Splitting Dataset into Train and Test"
   ]
  },
  {
   "cell_type": "code",
   "execution_count": 25,
   "metadata": {},
   "outputs": [],
   "source": [
    "def split_data(data, split_percentage):\n",
    "    # Split the data into train, validation and test sets\n",
    "    return np.split(data, [int(split_percentage[0]*len(data))])"
   ]
  },
  {
   "cell_type": "code",
   "execution_count": 26,
   "metadata": {},
   "outputs": [
    {
     "name": "stdout",
     "output_type": "stream",
     "text": [
      "(65074, 21) (16269, 21)\n"
     ]
    },
    {
     "name": "stderr",
     "output_type": "stream",
     "text": [
      "/Library/Frameworks/Python.framework/Versions/3.12/lib/python3.12/site-packages/numpy/_core/fromnumeric.py:57: FutureWarning: 'DataFrame.swapaxes' is deprecated and will be removed in a future version. Please use 'DataFrame.transpose' instead.\n",
      "  return bound(*args, **kwds)\n"
     ]
    }
   ],
   "source": [
    "split_percentage = [0.8, 0.2]\n",
    "\n",
    "# shuffle the dataset\n",
    "df = df.sample(frac=1).reset_index(drop=True)\n",
    "train, test = split_data(df, split_percentage)\n",
    "print(train.shape, test.shape)"
   ]
  },
  {
   "cell_type": "code",
   "execution_count": null,
   "metadata": {},
   "outputs": [],
   "source": []
  }
 ],
 "metadata": {
  "kernelspec": {
   "display_name": "Python 3",
   "language": "python",
   "name": "python3"
  },
  "language_info": {
   "codemirror_mode": {
    "name": "ipython",
    "version": 3
   },
   "file_extension": ".py",
   "mimetype": "text/x-python",
   "name": "python",
   "nbconvert_exporter": "python",
   "pygments_lexer": "ipython3",
   "version": "3.12.3"
  }
 },
 "nbformat": 4,
 "nbformat_minor": 2
}
