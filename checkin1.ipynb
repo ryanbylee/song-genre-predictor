{
 "cells": [
  {
   "cell_type": "markdown",
   "metadata": {},
   "source": [
    "1. Explain what data set your team had chosen for the project.\n",
    "2. Explain the main features in the data that you are studying and why.\n",
    "3. Include code that demonstrates some of the data cleaning your group has attempted. Some examples\n",
    "including handling missingness and imputation.\n",
    "4. Include code that at least one exploratory data analysis (EDA) technique you have applied to your\n",
    "data and why. An example EDA could be one to help determine predictors for a response variable for\n",
    "simple linear regression."
   ]
  },
  {
   "cell_type": "markdown",
   "metadata": {},
   "source": [
    "1. The dataset our team chose is the Spotify track information.\n",
    "2. The main features in the data that we are studying is the relationships among track genre and other variables in the dataset."
   ]
  },
  {
   "cell_type": "code",
   "execution_count": 1,
   "metadata": {},
   "outputs": [],
   "source": [
    "# load the dataset\n",
    "import pandas as pd\n",
    "df = pd.read_csv(\"hf://datasets/maharshipandya/spotify-tracks-dataset/dataset.csv\")"
   ]
  },
  {
   "cell_type": "code",
   "execution_count": null,
   "metadata": {},
   "outputs": [],
   "source": [
    "print(df.shape[0])\n",
    "df.dropna(inplace=True) # remove all rows with missing values\n",
    "print(df.shape[0])\n",
    "print(df.isnull().sum())\n",
    "\n",
    "\n",
    "# look for duplicate values based on track name and artist name\n",
    "df.drop_duplicates(subset=['track_name', 'artists'], inplace=True)\n",
    "print(df.shape[0])\n",
    "\n",
    "\n",
    "def split_data(self, split_percentage: list[int]):\n",
    "    # Split the data into train, validation and test sets\n",
    "    pass"
   ]
  },
  {
   "cell_type": "code",
   "execution_count": 3,
   "metadata": {},
   "outputs": [],
   "source": [
    "avg_popularity = df.groupby('track_genre')['popularity'].mean()\n",
    "print(avg_popularity)\n",
    "# iterate through the top  above and print the number of songs in each genre\n",
    "for genre in avg_popularity.sort_values(ascending=False).index:\n",
    "    print(f\"Average popularity in genre {genre}: {avg_popularity[genre]}, Number of songs: {df[df['track_genre'] == genre].shape[0]}\")\n",
    "\n",
    "# plot the average popularity of each genre\n",
    "import matplotlib.pyplot as plt\n",
    "plt.figure(figsize=(10, 5))\n",
    "plt.bar(avg_popularity.index, avg_popularity.sort_values())\n",
    "plt.xticks(rotation=90)\n",
    "plt.xlabel('Genre')\n",
    "plt.ylabel('Average Popularity')\n",
    "plt.title('Average Popularity of each Genre')\n",
    "plt.show()\n"
   ]
  },
  {
   "cell_type": "markdown",
   "metadata": {},
   "source": []
  }
 ],
 "metadata": {
  "kernelspec": {
   "display_name": "Python 3",
   "language": "python",
   "name": "python3"
  },
  "language_info": {
   "codemirror_mode": {
    "name": "ipython",
    "version": 3
   },
   "file_extension": ".py",
   "mimetype": "text/x-python",
   "name": "python",
   "nbconvert_exporter": "python",
   "pygments_lexer": "ipython3",
   "version": "3.12.3"
  }
 },
 "nbformat": 4,
 "nbformat_minor": 2
}
