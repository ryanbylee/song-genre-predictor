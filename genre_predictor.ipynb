{
 "cells": [
  {
   "cell_type": "markdown",
   "metadata": {},
   "source": [
    "# CS M148 Final Project: Song Genre Predictor"
   ]
  },
  {
   "cell_type": "markdown",
   "metadata": {},
   "source": [
    "## Exploratory Data Analysis (EDA), Visualization, and Splitting into Train/Test Sets"
   ]
  },
  {
   "cell_type": "code",
   "execution_count": 1,
   "metadata": {},
   "outputs": [],
   "source": [
    "import pandas as pd\n",
    "import numpy as np"
   ]
  },
  {
   "cell_type": "code",
   "execution_count": 2,
   "metadata": {},
   "outputs": [],
   "source": [
    "# load the dataset\n",
    "df = pd.read_csv(\"hf://datasets/maharshipandya/spotify-tracks-dataset/dataset.csv\")"
   ]
  },
  {
   "cell_type": "markdown",
   "metadata": {},
   "source": [
    "### Data Cleaning"
   ]
  },
  {
   "cell_type": "code",
   "execution_count": 3,
   "metadata": {},
   "outputs": [],
   "source": [
    "# remove all rows with missing values\n",
    "df.dropna(inplace=True) \n",
    "\n",
    "# remove all duplicate values based on track name and artist name\n",
    "df.drop_duplicates(subset=['track_name', 'artists'], inplace=True)"
   ]
  },
  {
   "cell_type": "markdown",
   "metadata": {},
   "source": [
    "### Genre Mapping"
   ]
  },
  {
   "cell_type": "code",
   "execution_count": 4,
   "metadata": {},
   "outputs": [],
   "source": [
    "genres = ['acoustic' 'afrobeat' 'alt-rock' 'alternative' 'ambient' 'anime'\n",
    "    'black-metal' 'bluegrass' 'blues' 'brazil' 'breakbeat' 'british'\n",
    "    'cantopop' 'chicago-house' 'children' 'chill' 'classical' 'club' 'comedy'\n",
    "    'country' 'dance' 'dancehall' 'death-metal' 'deep-house' 'detroit-techno'\n",
    "    'disco' 'disney' 'drum-and-bass' 'dub' 'dubstep' 'edm' 'electro'\n",
    "    'electronic' 'emo' 'folk' 'forro' 'french' 'funk' 'garage' 'german'\n",
    "    'gospel' 'goth' 'grindcore' 'groove' 'grunge' 'guitar' 'happy'\n",
    "    'hard-rock' 'hardcore' 'hardstyle' 'heavy-metal' 'hip-hop' 'honky-tonk'\n",
    "    'house' 'idm' 'indian' 'indie-pop' 'indie' 'industrial' 'iranian'\n",
    "    'j-dance' 'j-idol' 'j-pop' 'j-rock' 'jazz' 'k-pop' 'kids' 'latin'\n",
    "    'latino' 'malay' 'mandopop' 'metal' 'metalcore' 'minimal-techno' 'mpb'\n",
    "    'new-age' 'opera' 'pagode' 'party' 'piano' 'pop-film' 'pop' 'power-pop'\n",
    "    'progressive-house' 'psych-rock' 'punk-rock' 'punk' 'r-n-b' 'reggae'\n",
    "    'reggaeton' 'rock-n-roll' 'rock' 'rockabilly' 'romance' 'sad' 'salsa'\n",
    "    'samba' 'sertanejo' 'show-tunes' 'singer-songwriter' 'ska' 'sleep'\n",
    "    'songwriter' 'soul' 'spanish' 'study' 'swedish' 'synth-pop' 'tango'\n",
    "    'techno' 'trance' 'trip-hop' 'turkish' 'world-music'\n",
    " ]\n",
    "\n",
    "genre_mapping = {\n",
    "    \"rock_alt_metal\": [\n",
    "        \"alt-rock\", \"alternative\", \"black-metal\", \"death-metal\", \"emo\", \"goth\",\n",
    "        \"grindcore\", \"grunge\", \"hard-rock\", \"hardcore\", \"heavy-metal\", \"metal\",\n",
    "        \"metalcore\", \"psych-rock\", \"punk-rock\", \"punk\", \"rock\", \"rock-n-roll\", \"hardstyle\", \"j-rock\", \"rockabilly\"\n",
    "    ],\n",
    "    \"pop_indie\": [\n",
    "        \"pop\", \"power-pop\", \"pop-film\", \"indie\", \"indie-pop\", \"j-pop\", \"k-pop\",\n",
    "        \"cantopop\", \"mandopop\", \"synth-pop\"\n",
    "    ],\n",
    "    \"electronic_dance\": [\n",
    "        \"edm\", \"dance\", \"electro\", \"electronic\", \"trance\", \"techno\",\n",
    "        \"detroit-techno\", \"chicago-house\", \"progressive-house\", \"deep-house\",\n",
    "        \"house\", \"minimal-techno\", \"dubstep\", \"drum-and-bass\", \"breakbeat\",\n",
    "        \"dub\", \"idm\", \"disco\", \"garage\", \"groove\"\n",
    "    ],\n",
    "    \"hiphop_rnb\": [\n",
    "        \"hip-hop\", \"r-n-b\", \"soul\", \"funk\"\n",
    "    ],\n",
    "    \"jazz_classical\": [\n",
    "        \"jazz\", \"blues\", \"classical\", \"piano\"\n",
    "    ],\n",
    "    \"country_folk\": [\n",
    "        \"country\", \"folk\", \"bluegrass\", \"honky-tonk\", \"singer-songwriter\",\n",
    "        \"songwriter\", \"acoustic\"\n",
    "    ],\n",
    "    \"latin_world\": [\n",
    "        \"latin\", \"latino\", \"afrobeat\", \"brazil\", \"mpb\", \"samba\", \"salsa\", \"tango\",\n",
    "        \"pagode\", \"forro\", \"sertanejo\", \"reggaeton\", \"indian\", \"iranian\",\n",
    "        \"turkish\", \"french\", \"german\", \"british\", \"swedish\", \"malay\", \"world-music\"\n",
    "    ],\n",
    "    \"reggae\": [\n",
    "        \"reggae\", \"dancehall\"\n",
    "    ],\n",
    "    \"ambient_chill\": [\n",
    "        \"ambient\", \"chill\", \"new-age\", \"trip-hop\"\n",
    "    ],\n",
    "    \"thematic\": [\n",
    "        \"anime\", \"children\", \"comedy\", \"club\", \"disney\", \"gospel\", \"guitar\",\n",
    "        \"happy\", \"industrial\", \"j-dance\", \"j-idol\", \"kids\", \"opera\", \"party\",\n",
    "        \"romance\", \"sad\", \"show-tunes\", \"ska\", \"sleep\", \"spanish\", \"study\"\n",
    "    ]\n",
    "}\n",
    "\n",
    "\n",
    "flattened_mapping = {genre: category for category, subgenres in genre_mapping.items() for genre in subgenres}\n",
    "\n",
    "df['track_genre'] = df['track_genre'].apply(lambda x: flattened_mapping[x])\n",
    "\n"
   ]
  },
  {
   "cell_type": "code",
   "execution_count": 5,
   "metadata": {},
   "outputs": [
    {
     "name": "stdout",
     "output_type": "stream",
     "text": [
      "10\n"
     ]
    }
   ],
   "source": [
    "print(len(df['track_genre'].unique()))"
   ]
  },
  {
   "cell_type": "markdown",
   "metadata": {},
   "source": [
    "### Distributions of Modes for Each Genre"
   ]
  },
  {
   "cell_type": "code",
   "execution_count": 6,
   "metadata": {},
   "outputs": [
    {
     "name": "stdout",
     "output_type": "stream",
     "text": [
      "track_genre\n",
      "ambient_chill       0.594100\n",
      "country_folk        0.846171\n",
      "electronic_dance    0.543395\n",
      "hiphop_rnb          0.543807\n",
      "jazz_classical      0.713617\n",
      "latin_world         0.620362\n",
      "pop_indie           0.671976\n",
      "reggae              0.517518\n",
      "rock_alt_metal      0.619785\n",
      "thematic            0.667246\n",
      "Name: mode, dtype: float64\n"
     ]
    },
    {
     "data": {
      "text/plain": [
       "<Axes: xlabel='track_genre'>"
      ]
     },
     "execution_count": 6,
     "metadata": {},
     "output_type": "execute_result"
    },
    {
     "data": {
      "image/png": "[encoded data removed]",
      "text/plain": [
       "<Figure size 640x480 with 1 Axes>"
      ]
     },
     "metadata": {},
     "output_type": "display_data"
    }
   ],
   "source": [
    "# get the number of genres in the dataset\n",
    "\n",
    "# Group the dataset by genre, and get the percentage of tracks that has Mode value of 1\n",
    "print(df.groupby('track_genre')['mode'].mean())\n",
    "\n",
    "# visualize the percentage of modes of each genre, by plotting a histogram of the track genres\n",
    "df.groupby('track_genre')['mode'].mean().plot(kind='bar')"
   ]
  },
  {
   "cell_type": "markdown",
   "metadata": {},
   "source": [
    "# Logistic Regression on Mode Feature"
   ]
  },
  {
   "cell_type": "code",
   "execution_count": 7,
   "metadata": {},
   "outputs": [
    {
     "data": {
      "text/html": [
       "<div>\n",
       "<style scoped>\n",
       "    .dataframe tbody tr th:only-of-type {\n",
       "        vertical-align: middle;\n",
       "    }\n",
       "\n",
       "    .dataframe tbody tr th {\n",
       "        vertical-align: top;\n",
       "    }\n",
       "\n",
       "    .dataframe thead th {\n",
       "        text-align: right;\n",
       "    }\n",
       "</style>\n",
       "<table border=\"1\" class=\"dataframe\">\n",
       "  <thead>\n",
       "    <tr style=\"text-align: right;\">\n",
       "      <th></th>\n",
       "      <th>Unnamed: 0</th>\n",
       "      <th>popularity</th>\n",
       "      <th>duration_ms</th>\n",
       "      <th>danceability</th>\n",
       "      <th>energy</th>\n",
       "      <th>key</th>\n",
       "      <th>loudness</th>\n",
       "      <th>mode</th>\n",
       "      <th>speechiness</th>\n",
       "      <th>acousticness</th>\n",
       "      <th>instrumentalness</th>\n",
       "      <th>liveness</th>\n",
       "      <th>valence</th>\n",
       "      <th>tempo</th>\n",
       "      <th>time_signature</th>\n",
       "    </tr>\n",
       "  </thead>\n",
       "  <tbody>\n",
       "    <tr>\n",
       "      <th>Unnamed: 0</th>\n",
       "      <td>1.000000</td>\n",
       "      <td>0.032008</td>\n",
       "      <td>-0.029592</td>\n",
       "      <td>-0.024719</td>\n",
       "      <td>-0.064272</td>\n",
       "      <td>-0.008776</td>\n",
       "      <td>-0.044169</td>\n",
       "      <td>-0.006544</td>\n",
       "      <td>-0.093474</td>\n",
       "      <td>0.088671</td>\n",
       "      <td>-0.050356</td>\n",
       "      <td>0.047232</td>\n",
       "      <td>0.037897</td>\n",
       "      <td>-0.035741</td>\n",
       "      <td>-0.028832</td>\n",
       "    </tr>\n",
       "    <tr>\n",
       "      <th>popularity</th>\n",
       "      <td>0.032008</td>\n",
       "      <td>1.000000</td>\n",
       "      <td>-0.053321</td>\n",
       "      <td>0.087245</td>\n",
       "      <td>-0.000871</td>\n",
       "      <td>0.004427</td>\n",
       "      <td>0.090162</td>\n",
       "      <td>-0.004927</td>\n",
       "      <td>-0.064913</td>\n",
       "      <td>-0.032143</td>\n",
       "      <td>-0.174509</td>\n",
       "      <td>-0.028974</td>\n",
       "      <td>0.011323</td>\n",
       "      <td>0.001891</td>\n",
       "      <td>0.038559</td>\n",
       "    </tr>\n",
       "    <tr>\n",
       "      <th>duration_ms</th>\n",
       "      <td>-0.029592</td>\n",
       "      <td>-0.053321</td>\n",
       "      <td>1.000000</td>\n",
       "      <td>-0.060165</td>\n",
       "      <td>0.058394</td>\n",
       "      <td>0.011665</td>\n",
       "      <td>0.002400</td>\n",
       "      <td>-0.035648</td>\n",
       "      <td>-0.063688</td>\n",
       "      <td>-0.106275</td>\n",
       "      <td>0.109759</td>\n",
       "      <td>0.005601</td>\n",
       "      <td>-0.140941</td>\n",
       "      <td>0.024062</td>\n",
       "      <td>0.021333</td>\n",
       "    </tr>\n",
       "    <tr>\n",
       "      <th>danceability</th>\n",
       "      <td>-0.024719</td>\n",
       "      <td>0.087245</td>\n",
       "      <td>-0.060165</td>\n",
       "      <td>1.000000</td>\n",
       "      <td>0.134654</td>\n",
       "      <td>0.032583</td>\n",
       "      <td>0.264934</td>\n",
       "      <td>-0.059299</td>\n",
       "      <td>0.108294</td>\n",
       "      <td>-0.167829</td>\n",
       "      <td>-0.191535</td>\n",
       "      <td>-0.132784</td>\n",
       "      <td>0.492132</td>\n",
       "      <td>-0.015470</td>\n",
       "      <td>0.206450</td>\n",
       "    </tr>\n",
       "    <tr>\n",
       "      <th>energy</th>\n",
       "      <td>-0.064272</td>\n",
       "      <td>-0.000871</td>\n",
       "      <td>0.058394</td>\n",
       "      <td>0.134654</td>\n",
       "      <td>1.000000</td>\n",
       "      <td>0.042777</td>\n",
       "      <td>0.761042</td>\n",
       "      <td>-0.069535</td>\n",
       "      <td>0.139823</td>\n",
       "      <td>-0.731108</td>\n",
       "      <td>-0.186446</td>\n",
       "      <td>0.190931</td>\n",
       "      <td>0.253953</td>\n",
       "      <td>0.260840</td>\n",
       "      <td>0.181097</td>\n",
       "    </tr>\n",
       "    <tr>\n",
       "      <th>key</th>\n",
       "      <td>-0.008776</td>\n",
       "      <td>0.004427</td>\n",
       "      <td>0.011665</td>\n",
       "      <td>0.032583</td>\n",
       "      <td>0.042777</td>\n",
       "      <td>1.000000</td>\n",
       "      <td>0.033895</td>\n",
       "      <td>-0.145019</td>\n",
       "      <td>0.013293</td>\n",
       "      <td>-0.041848</td>\n",
       "      <td>-0.003634</td>\n",
       "      <td>-0.002775</td>\n",
       "      <td>0.023814</td>\n",
       "      <td>0.005688</td>\n",
       "      <td>0.014993</td>\n",
       "    </tr>\n",
       "    <tr>\n",
       "      <th>loudness</th>\n",
       "      <td>-0.044169</td>\n",
       "      <td>0.090162</td>\n",
       "      <td>0.002400</td>\n",
       "      <td>0.264934</td>\n",
       "      <td>0.761042</td>\n",
       "      <td>0.033895</td>\n",
       "      <td>1.000000</td>\n",
       "      <td>-0.035465</td>\n",
       "      <td>0.054019</td>\n",
       "      <td>-0.582132</td>\n",
       "      <td>-0.434393</td>\n",
       "      <td>0.080270</td>\n",
       "      <td>0.289951</td>\n",
       "      <td>0.234033</td>\n",
       "      <td>0.193658</td>\n",
       "    </tr>\n",
       "    <tr>\n",
       "      <th>mode</th>\n",
       "      <td>-0.006544</td>\n",
       "      <td>-0.004927</td>\n",
       "      <td>-0.035648</td>\n",
       "      <td>-0.059299</td>\n",
       "      <td>-0.069535</td>\n",
       "      <td>-0.145019</td>\n",
       "      <td>-0.035465</td>\n",
       "      <td>1.000000</td>\n",
       "      <td>-0.035567</td>\n",
       "      <td>0.084144</td>\n",
       "      <td>-0.050497</td>\n",
       "      <td>0.018166</td>\n",
       "      <td>0.024349</td>\n",
       "      <td>-0.001603</td>\n",
       "      <td>-0.023201</td>\n",
       "    </tr>\n",
       "    <tr>\n",
       "      <th>speechiness</th>\n",
       "      <td>-0.093474</td>\n",
       "      <td>-0.064913</td>\n",
       "      <td>-0.063688</td>\n",
       "      <td>0.108294</td>\n",
       "      <td>0.139823</td>\n",
       "      <td>0.013293</td>\n",
       "      <td>0.054019</td>\n",
       "      <td>-0.035567</td>\n",
       "      <td>1.000000</td>\n",
       "      <td>0.012316</td>\n",
       "      <td>-0.106998</td>\n",
       "      <td>0.231626</td>\n",
       "      <td>0.035074</td>\n",
       "      <td>-0.003208</td>\n",
       "      <td>-0.011022</td>\n",
       "    </tr>\n",
       "    <tr>\n",
       "      <th>acousticness</th>\n",
       "      <td>0.088671</td>\n",
       "      <td>-0.032143</td>\n",
       "      <td>-0.106275</td>\n",
       "      <td>-0.167829</td>\n",
       "      <td>-0.731108</td>\n",
       "      <td>-0.041848</td>\n",
       "      <td>-0.582132</td>\n",
       "      <td>0.084144</td>\n",
       "      <td>0.012316</td>\n",
       "      <td>1.000000</td>\n",
       "      <td>0.095258</td>\n",
       "      <td>-0.016355</td>\n",
       "      <td>-0.101706</td>\n",
       "      <td>-0.223598</td>\n",
       "      <td>-0.173610</td>\n",
       "    </tr>\n",
       "    <tr>\n",
       "      <th>instrumentalness</th>\n",
       "      <td>-0.050356</td>\n",
       "      <td>-0.174509</td>\n",
       "      <td>0.109759</td>\n",
       "      <td>-0.191535</td>\n",
       "      <td>-0.186446</td>\n",
       "      <td>-0.003634</td>\n",
       "      <td>-0.434393</td>\n",
       "      <td>-0.050497</td>\n",
       "      <td>-0.106998</td>\n",
       "      <td>0.095258</td>\n",
       "      <td>1.000000</td>\n",
       "      <td>-0.096614</td>\n",
       "      <td>-0.332375</td>\n",
       "      <td>-0.058944</td>\n",
       "      <td>-0.083336</td>\n",
       "    </tr>\n",
       "    <tr>\n",
       "      <th>liveness</th>\n",
       "      <td>0.047232</td>\n",
       "      <td>-0.028974</td>\n",
       "      <td>0.005601</td>\n",
       "      <td>-0.132784</td>\n",
       "      <td>0.190931</td>\n",
       "      <td>-0.002775</td>\n",
       "      <td>0.080270</td>\n",
       "      <td>0.018166</td>\n",
       "      <td>0.231626</td>\n",
       "      <td>-0.016355</td>\n",
       "      <td>-0.096614</td>\n",
       "      <td>1.000000</td>\n",
       "      <td>0.014425</td>\n",
       "      <td>-0.008841</td>\n",
       "      <td>-0.031845</td>\n",
       "    </tr>\n",
       "    <tr>\n",
       "      <th>valence</th>\n",
       "      <td>0.037897</td>\n",
       "      <td>0.011323</td>\n",
       "      <td>-0.140941</td>\n",
       "      <td>0.492132</td>\n",
       "      <td>0.253953</td>\n",
       "      <td>0.023814</td>\n",
       "      <td>0.289951</td>\n",
       "      <td>0.024349</td>\n",
       "      <td>0.035074</td>\n",
       "      <td>-0.101706</td>\n",
       "      <td>-0.332375</td>\n",
       "      <td>0.014425</td>\n",
       "      <td>1.000000</td>\n",
       "      <td>0.093131</td>\n",
       "      <td>0.131908</td>\n",
       "    </tr>\n",
       "    <tr>\n",
       "      <th>tempo</th>\n",
       "      <td>-0.035741</td>\n",
       "      <td>0.001891</td>\n",
       "      <td>0.024062</td>\n",
       "      <td>-0.015470</td>\n",
       "      <td>0.260840</td>\n",
       "      <td>0.005688</td>\n",
       "      <td>0.234033</td>\n",
       "      <td>-0.001603</td>\n",
       "      <td>-0.003208</td>\n",
       "      <td>-0.223598</td>\n",
       "      <td>-0.058944</td>\n",
       "      <td>-0.008841</td>\n",
       "      <td>0.093131</td>\n",
       "      <td>1.000000</td>\n",
       "      <td>0.087057</td>\n",
       "    </tr>\n",
       "    <tr>\n",
       "      <th>time_signature</th>\n",
       "      <td>-0.028832</td>\n",
       "      <td>0.038559</td>\n",
       "      <td>0.021333</td>\n",
       "      <td>0.206450</td>\n",
       "      <td>0.181097</td>\n",
       "      <td>0.014993</td>\n",
       "      <td>0.193658</td>\n",
       "      <td>-0.023201</td>\n",
       "      <td>-0.011022</td>\n",
       "      <td>-0.173610</td>\n",
       "      <td>-0.083336</td>\n",
       "      <td>-0.031845</td>\n",
       "      <td>0.131908</td>\n",
       "      <td>0.087057</td>\n",
       "      <td>1.000000</td>\n",
       "    </tr>\n",
       "  </tbody>\n",
       "</table>\n",
       "</div>"
      ],
      "text/plain": [
       "                  Unnamed: 0  popularity  duration_ms  danceability    energy  \\\n",
       "Unnamed: 0          1.000000    0.032008    -0.029592     -0.024719 -0.064272   \n",
       "popularity          0.032008    1.000000    -0.053321      0.087245 -0.000871   \n",
       "duration_ms        -0.029592   -0.053321     1.000000     -0.060165  0.058394   \n",
       "danceability       -0.024719    0.087245    -0.060165      1.000000  0.134654   \n",
       "energy             -0.064272   -0.000871     0.058394      0.134654  1.000000   \n",
       "key                -0.008776    0.004427     0.011665      0.032583  0.042777   \n",
       "loudness           -0.044169    0.090162     0.002400      0.264934  0.761042   \n",
       "mode               -0.006544   -0.004927    -0.035648     -0.059299 -0.069535   \n",
       "speechiness        -0.093474   -0.064913    -0.063688      0.108294  0.139823   \n",
       "acousticness        0.088671   -0.032143    -0.106275     -0.167829 -0.731108   \n",
       "instrumentalness   -0.050356   -0.174509     0.109759     -0.191535 -0.186446   \n",
       "liveness            0.047232   -0.028974     0.005601     -0.132784  0.190931   \n",
       "valence             0.037897    0.011323    -0.140941      0.492132  0.253953   \n",
       "tempo              -0.035741    0.001891     0.024062     -0.015470  0.260840   \n",
       "time_signature     -0.028832    0.038559     0.021333      0.206450  0.181097   \n",
       "\n",
       "                       key  loudness      mode  speechiness  acousticness  \\\n",
       "Unnamed: 0       -0.008776 -0.044169 -0.006544    -0.093474      0.088671   \n",
       "popularity        0.004427  0.090162 -0.004927    -0.064913     -0.032143   \n",
       "duration_ms       0.011665  0.002400 -0.035648    -0.063688     -0.106275   \n",
       "danceability      0.032583  0.264934 -0.059299     0.108294     -0.167829   \n",
       "energy            0.042777  0.761042 -0.069535     0.139823     -0.731108   \n",
       "key               1.000000  0.033895 -0.145019     0.013293     -0.041848   \n",
       "loudness          0.033895  1.000000 -0.035465     0.054019     -0.582132   \n",
       "mode             -0.145019 -0.035465  1.000000    -0.035567      0.084144   \n",
       "speechiness       0.013293  0.054019 -0.035567     1.000000      0.012316   \n",
       "acousticness     -0.041848 -0.582132  0.084144     0.012316      1.000000   \n",
       "instrumentalness -0.003634 -0.434393 -0.050497    -0.106998      0.095258   \n",
       "liveness         -0.002775  0.080270  0.018166     0.231626     -0.016355   \n",
       "valence           0.023814  0.289951  0.024349     0.035074     -0.101706   \n",
       "tempo             0.005688  0.234033 -0.001603    -0.003208     -0.223598   \n",
       "time_signature    0.014993  0.193658 -0.023201    -0.011022     -0.173610   \n",
       "\n",
       "                  instrumentalness  liveness   valence     tempo  \\\n",
       "Unnamed: 0               -0.050356  0.047232  0.037897 -0.035741   \n",
       "popularity               -0.174509 -0.028974  0.011323  0.001891   \n",
       "duration_ms               0.109759  0.005601 -0.140941  0.024062   \n",
       "danceability             -0.191535 -0.132784  0.492132 -0.015470   \n",
       "energy                   -0.186446  0.190931  0.253953  0.260840   \n",
       "key                      -0.003634 -0.002775  0.023814  0.005688   \n",
       "loudness                 -0.434393  0.080270  0.289951  0.234033   \n",
       "mode                     -0.050497  0.018166  0.024349 -0.001603   \n",
       "speechiness              -0.106998  0.231626  0.035074 -0.003208   \n",
       "acousticness              0.095258 -0.016355 -0.101706 -0.223598   \n",
       "instrumentalness          1.000000 -0.096614 -0.332375 -0.058944   \n",
       "liveness                 -0.096614  1.000000  0.014425 -0.008841   \n",
       "valence                  -0.332375  0.014425  1.000000  0.093131   \n",
       "tempo                    -0.058944 -0.008841  0.093131  1.000000   \n",
       "time_signature           -0.083336 -0.031845  0.131908  0.087057   \n",
       "\n",
       "                  time_signature  \n",
       "Unnamed: 0             -0.028832  \n",
       "popularity              0.038559  \n",
       "duration_ms             0.021333  \n",
       "danceability            0.206450  \n",
       "energy                  0.181097  \n",
       "key                     0.014993  \n",
       "loudness                0.193658  \n",
       "mode                   -0.023201  \n",
       "speechiness            -0.011022  \n",
       "acousticness           -0.173610  \n",
       "instrumentalness       -0.083336  \n",
       "liveness               -0.031845  \n",
       "valence                 0.131908  \n",
       "tempo                   0.087057  \n",
       "time_signature          1.000000  "
      ]
     },
     "execution_count": 7,
     "metadata": {},
     "output_type": "execute_result"
    }
   ],
   "source": [
    "import plotly.express as px\n",
    "import plotly.figure_factory as ff\n",
    "import plotly.graph_objects as go\n",
    "from sklearn.linear_model import LinearRegression\n",
    "from sklearn.linear_model import LogisticRegression\n",
    "from sklearn.model_selection import train_test_split, cross_val_score, StratifiedKFold, cross_val_predict\n",
    "from sklearn import metrics\n",
    "from sklearn.metrics import confusion_matrix, accuracy_score, ConfusionMatrixDisplay\n",
    "from sklearn.utils import resample\n",
    "import matplotlib.pyplot as plt\n",
    "\n",
    "\n",
    "# plot confusion matrix to identify best predictors\n",
    "df['mode'] = df['mode'].astype(int)\n",
    "numeric_df = df.select_dtypes(include=['number'])\n",
    "correlation_matrix = numeric_df.corr()\n",
    "correlation_matrix"
   ]
  },
  {
   "cell_type": "code",
   "execution_count": 8,
   "metadata": {},
   "outputs": [
    {
     "name": "stdout",
     "output_type": "stream",
     "text": [
      "Number of 1s: 51437\n",
      "Number of 0s: 29906\n"
     ]
    }
   ],
   "source": [
    "counts = df['mode'].value_counts()\n",
    "print(\"Number of 1s:\", counts.get(1, 0))\n",
    "print(\"Number of 0s:\", counts.get(0, 0))"
   ]
  },
  {
   "cell_type": "code",
   "execution_count": 9,
   "metadata": {},
   "outputs": [
    {
     "name": "stdout",
     "output_type": "stream",
     "text": [
      "Number of iterations used by the solver: [3892]\n",
      "Confusion Matrix:\n",
      " [[ 6393 14455]\n",
      " [ 3971 32121]]\n",
      "Accuracy: 0.6763962065331929\n",
      "Prediction Error: 0.3236037934668071\n",
      "True Positive Rate (TPR): 0.889975617865455\n",
      "True Negative Rate (TNR): 0.30664811972371453\n"
     ]
    },
    {
     "data": {
      "image/png": "[encoded data removed]",
      "text/plain": [
       "<Figure size 640x480 with 2 Axes>"
      ]
     },
     "metadata": {},
     "output_type": "display_data"
    }
   ],
   "source": [
    "from sklearn.preprocessing import StandardScaler, PolynomialFeatures\n",
    "\n",
    "scaler = StandardScaler()\n",
    "lr = LogisticRegression(C=0.05, max_iter=10000)\n",
    "\n",
    "# get all numeric columns\n",
    "X = df.select_dtypes(include=['int64', 'float64']).drop(columns=['mode'])\n",
    "X_scaled = scaler.fit_transform(X)\n",
    "poly = PolynomialFeatures(degree=3, interaction_only=False, include_bias=False)\n",
    "X_poly = poly.fit_transform(X_scaled)\n",
    "y = df['mode']\n",
    "\n",
    "x_train, x_test, y_train, y_test = train_test_split(X_poly, y, test_size=0.3)\n",
    "lr.fit(x_train, y_train)\n",
    "print(\"Number of iterations used by the solver:\", lr.n_iter_)\n",
    "\n",
    "y_pred_train = lr.predict(x_train)\n",
    "\n",
    "conf_matrix = confusion_matrix(y_train, y_pred_train)\n",
    "tn, fp, fn, tp = conf_matrix.ravel()\n",
    "\n",
    "accuracy = accuracy_score(y_train, y_pred_train)\n",
    "prediction_error = 1 - accuracy\n",
    "\n",
    "true_positive_rate = tp / (tp + fn)\n",
    "true_negative_rate = tn / (tn + fp)\n",
    "\n",
    "print(\"Confusion Matrix:\\n\", conf_matrix)\n",
    "print(\"Accuracy:\", accuracy)\n",
    "print(\"Prediction Error:\", prediction_error)\n",
    "print(\"True Positive Rate (TPR):\", true_positive_rate)\n",
    "print(\"True Negative Rate (TNR):\", true_negative_rate)\n",
    "\n",
    "# visualize confusion matrix\n",
    "disp = ConfusionMatrixDisplay(confusion_matrix=conf_matrix, display_labels=lr.classes_)\n",
    "disp.plot()\n",
    "plt.show()"
   ]
  },
  {
   "cell_type": "code",
   "execution_count": 10,
   "metadata": {},
   "outputs": [
    {
     "name": "stdout",
     "output_type": "stream",
     "text": [
      "Number of 1s: 36092\n",
      "Number of 0s: 20848\n"
     ]
    }
   ],
   "source": [
    "counts = y_train.value_counts()\n",
    "print(\"Number of 1s:\", counts.get(1, 0))\n",
    "print(\"Number of 0s:\", counts.get(0, 0))"
   ]
  },
  {
   "cell_type": "code",
   "execution_count": 11,
   "metadata": {},
   "outputs": [
    {
     "data": {
      "image/png": "[encoded data removed]",
      "text/plain": [
       "<Figure size 640x480 with 1 Axes>"
      ]
     },
     "metadata": {},
     "output_type": "display_data"
    }
   ],
   "source": [
    "# plot the roc curve\n",
    "y_pred = lr.predict_proba(x_test)[:, 1]\n",
    "fpr, tpr, thresholds = metrics.roc_curve(y_test, y_pred)\n",
    "roc_auc = metrics.auc(fpr, tpr)\n",
    "\n",
    "# visualize the roc curve\n",
    "plt.figure()\n",
    "plt.plot(fpr, tpr, color='darkorange', lw=2, label='ROC curve (area = %0.2f)' % roc_auc)\n",
    "plt.plot([0, 1], [0, 1], color='navy', lw=2, linestyle='--')\n",
    "plt.xlim([0.0, 1.0])\n",
    "plt.ylim([0.0, 1.05])\n",
    "plt.xlabel('False Positive Rate')\n",
    "plt.ylabel('True Positive Rate')\n",
    "plt.title('Receiver Operating Characteristic (ROC)')\n",
    "plt.legend(loc='lower right')\n",
    "plt.show()"
   ]
  },
  {
   "cell_type": "code",
   "execution_count": 12,
   "metadata": {},
   "outputs": [
    {
     "name": "stdout",
     "output_type": "stream",
     "text": [
      "AUC scores for each fold: [0.65165146 0.65316503 0.65150868 0.65150031 0.66634299]\n",
      "Mean AUC: 0.6548336912193656\n",
      "Accuracy for each fold: [0.657857   0.63757427 0.65970088 0.64692623 0.65122951]\n",
      "Mean Accuracy: 0.6506575765514323\n"
     ]
    }
   ],
   "source": [
    "# use cross-validation on validation set\n",
    "cv = StratifiedKFold(n_splits=5, shuffle=True)\n",
    "\n",
    "# compute predicted probabilities\n",
    "y_pred_prob = cross_val_predict(lr, x_test, y_test, cv=cv, method=\"predict_proba\")\n",
    "\n",
    "auc_scores = cross_val_score(lr, x_test, y_test, cv=cv, scoring='roc_auc')\n",
    "accuracy_scores = cross_val_score(lr, x_test, y_test, cv=cv, scoring='accuracy')\n",
    "\n",
    "print(\"AUC scores for each fold:\", auc_scores)\n",
    "print(\"Mean AUC:\", np.mean(auc_scores))\n",
    "print(\"Accuracy for each fold:\", accuracy_scores)\n",
    "print(\"Mean Accuracy:\", np.mean(accuracy_scores))"
   ]
  },
  {
   "cell_type": "markdown",
   "metadata": {},
   "source": [
    "# Neural Network for Genre Prediction"
   ]
  },
  {
   "cell_type": "code",
   "execution_count": 13,
   "metadata": {},
   "outputs": [],
   "source": [
    "import pandas as pd\n",
    "import numpy as np\n",
    "import torch\n",
    "from torch.utils.data import DataLoader, Dataset\n",
    "import torch.nn as nn\n",
    "import torch.nn.functional as F\n",
    "from tqdm import tqdm"
   ]
  },
  {
   "cell_type": "code",
   "execution_count": 16,
   "metadata": {},
   "outputs": [
    {
     "name": "stdout",
     "output_type": "stream",
     "text": [
      "{'rock_alt_metal': 0, 'pop_indie': 1, 'electronic_dance': 2, 'hiphop_rnb': 3, 'jazz_classical': 4, 'country_folk': 5, 'latin_world': 6, 'reggae': 7, 'ambient_chill': 8, 'thematic': 9}\n",
      "torch.Size([81343, 15]) torch.Size([81343])\n"
     ]
    }
   ],
   "source": [
    "df = pd.read_csv(\"hf://datasets/maharshipandya/spotify-tracks-dataset/dataset.csv\")\n",
    "# remove all rows with missing values\n",
    "df.dropna(inplace=True) \n",
    "\n",
    "# remove all duplicate values based on track name and artist name\n",
    "df.drop_duplicates(subset=['track_name', 'artists'], inplace=True)\n",
    "# create a dictionary with keys being genres and the values being each genre\n",
    "genres = [genre for genre, _ in genre_mapping.items()]\n",
    "genre_encoding = {genre: i for i, genre in enumerate(genres)}\n",
    "\n",
    "print(genre_encoding)\n",
    "\n",
    "df['track_genre'] = df['track_genre'].apply(lambda x: flattened_mapping[x])\n",
    "\n",
    "\n",
    "# genre_encoded\n",
    "df_encoded = df\n",
    "df_encoded['track_genre'] = df_encoded['track_genre'].apply(lambda x: genre_encoding[x])\n",
    "\n",
    "# shuffle the dataframe\n",
    "df_encoded = df_encoded.sample(frac=1).reset_index(drop=True)\n",
    "\n",
    "# separate the features and the target variable (track_genre) and convert to tensors\n",
    "X = torch.tensor(df_encoded.drop(columns=['track_genre']).select_dtypes(include=[np.number]).to_numpy(), dtype=torch.float32)\n",
    "y = torch.tensor(df_encoded['track_genre'].to_numpy(), dtype=torch.long)\n",
    "\n",
    "print(X.shape, y.shape)"
   ]
  },
  {
   "cell_type": "markdown",
   "metadata": {},
   "source": [
    "### create dataset, split\n",
    "\n",
    "https://pytorch.org/tutorials/beginner/basics/data_tutorial.html?highlight=dataloader"
   ]
  },
  {
   "cell_type": "code",
   "execution_count": 17,
   "metadata": {},
   "outputs": [],
   "source": [
    "class Track_dataset(Dataset):\n",
    "    def __init__(self, X, y):\n",
    "        self.X = X\n",
    "        self.y = y\n",
    "\n",
    "    def __len__(self):\n",
    "        return len(self.y)\n",
    "\n",
    "    def __getitem__(self, idx):\n",
    "        return self.X[idx], self.y[idx]"
   ]
  },
  {
   "cell_type": "code",
   "execution_count": 18,
   "metadata": {},
   "outputs": [
    {
     "name": "stdout",
     "output_type": "stream",
     "text": [
      "torch.Size([56940, 15]) torch.Size([12201, 15]) torch.Size([12202, 15])\n",
      "torch.Size([56940]) torch.Size([12201]) torch.Size([12202])\n"
     ]
    }
   ],
   "source": [
    "# split the dataset into train, valid, and test sets\n",
    "train_size = int(0.7 * len(df))\n",
    "valid_size = int(0.15 * len(df))\n",
    "test_size = len(df) - train_size - valid_size\n",
    "X_train, X_valid, X_test = torch.split(X, [train_size, valid_size, test_size])\n",
    "print(X_train.shape, X_valid.shape, X_test.shape)\n",
    "y_train, y_valid, y_test = torch.split(y, [train_size, valid_size, test_size])\n",
    "print(y_train.shape, y_valid.shape, y_test.shape)\n",
    "\n",
    "\n",
    "train_dataset = Track_dataset(X_train, y_train)\n",
    "valid_dataset = Track_dataset(X_valid, y_valid)\n",
    "test_dataset = Track_dataset(X_test, y_test)"
   ]
  },
  {
   "cell_type": "markdown",
   "metadata": {},
   "source": [
    "### define model"
   ]
  },
  {
   "cell_type": "code",
   "execution_count": 19,
   "metadata": {},
   "outputs": [],
   "source": [
    "# 3-layer neural network\n",
    "class Model(nn.Module):\n",
    "    def __init__(self):\n",
    "        super(Model, self).__init__()\n",
    "        self.fc1 = nn.Linear(15, 16)\n",
    "        self.fc2 = nn.Linear(16, 32)\n",
    "        self.fc3 = nn.Linear(32, 10)\n",
    "\n",
    "    def forward(self, x):\n",
    "        x = F.relu(self.fc1(x))\n",
    "        x = F.relu(self.fc2(x))\n",
    "        x = self.fc3(x)\n",
    "        return x"
   ]
  },
  {
   "cell_type": "markdown",
   "metadata": {},
   "source": [
    "### train the model"
   ]
  },
  {
   "cell_type": "code",
   "execution_count": 20,
   "metadata": {},
   "outputs": [
    {
     "name": "stderr",
     "output_type": "stream",
     "text": [
      "100%|██████████| 890/890 [00:00<00:00, 1463.96it/s]\n"
     ]
    },
    {
     "name": "stdout",
     "output_type": "stream",
     "text": [
      "Epoch 0: Validation Loss: 12.476650732349976\n"
     ]
    },
    {
     "name": "stderr",
     "output_type": "stream",
     "text": [
      "100%|██████████| 890/890 [00:00<00:00, 1778.71it/s]\n"
     ]
    },
    {
     "name": "stdout",
     "output_type": "stream",
     "text": [
      "Epoch 1: Validation Loss: 11.66047204601827\n"
     ]
    },
    {
     "name": "stderr",
     "output_type": "stream",
     "text": [
      "100%|██████████| 890/890 [00:00<00:00, 1596.04it/s]\n"
     ]
    },
    {
     "name": "stdout",
     "output_type": "stream",
     "text": [
      "Epoch 2: Validation Loss: 8.821208057603286\n"
     ]
    },
    {
     "name": "stderr",
     "output_type": "stream",
     "text": [
      "100%|██████████| 890/890 [00:00<00:00, 1794.63it/s]\n"
     ]
    },
    {
     "name": "stdout",
     "output_type": "stream",
     "text": [
      "Epoch 3: Validation Loss: 9.534416151296407\n"
     ]
    },
    {
     "name": "stderr",
     "output_type": "stream",
     "text": [
      "100%|██████████| 890/890 [00:00<00:00, 1769.43it/s]\n"
     ]
    },
    {
     "name": "stdout",
     "output_type": "stream",
     "text": [
      "Epoch 4: Validation Loss: 8.041674344327438\n"
     ]
    },
    {
     "name": "stderr",
     "output_type": "stream",
     "text": [
      "100%|██████████| 890/890 [00:00<00:00, 1657.02it/s]\n"
     ]
    },
    {
     "name": "stdout",
     "output_type": "stream",
     "text": [
      "Epoch 5: Validation Loss: 8.683762240784331\n"
     ]
    },
    {
     "name": "stderr",
     "output_type": "stream",
     "text": [
      "100%|██████████| 890/890 [00:00<00:00, 1786.11it/s]\n"
     ]
    },
    {
     "name": "stdout",
     "output_type": "stream",
     "text": [
      "Epoch 6: Validation Loss: 12.555889536573\n"
     ]
    },
    {
     "name": "stderr",
     "output_type": "stream",
     "text": [
      "100%|██████████| 890/890 [00:00<00:00, 1782.21it/s]\n"
     ]
    },
    {
     "name": "stdout",
     "output_type": "stream",
     "text": [
      "Epoch 7: Validation Loss: 7.749826940566457\n"
     ]
    },
    {
     "name": "stderr",
     "output_type": "stream",
     "text": [
      "100%|██████████| 890/890 [00:00<00:00, 1793.01it/s]\n"
     ]
    },
    {
     "name": "stdout",
     "output_type": "stream",
     "text": [
      "Epoch 8: Validation Loss: 9.72172783057727\n"
     ]
    },
    {
     "name": "stderr",
     "output_type": "stream",
     "text": [
      "100%|██████████| 890/890 [00:00<00:00, 1814.00it/s]\n"
     ]
    },
    {
     "name": "stdout",
     "output_type": "stream",
     "text": [
      "Epoch 9: Validation Loss: 6.537413127759364\n"
     ]
    },
    {
     "name": "stderr",
     "output_type": "stream",
     "text": [
      "100%|██████████| 890/890 [00:00<00:00, 1797.37it/s]\n"
     ]
    },
    {
     "name": "stdout",
     "output_type": "stream",
     "text": [
      "Epoch 10: Validation Loss: 6.46994208041286\n"
     ]
    },
    {
     "name": "stderr",
     "output_type": "stream",
     "text": [
      "100%|██████████| 890/890 [00:00<00:00, 1795.61it/s]\n"
     ]
    },
    {
     "name": "stdout",
     "output_type": "stream",
     "text": [
      "Epoch 11: Validation Loss: 9.67254412236638\n"
     ]
    },
    {
     "name": "stderr",
     "output_type": "stream",
     "text": [
      "100%|██████████| 890/890 [00:00<00:00, 1811.89it/s]\n"
     ]
    },
    {
     "name": "stdout",
     "output_type": "stream",
     "text": [
      "Epoch 12: Validation Loss: 3.6566856381780815\n"
     ]
    },
    {
     "name": "stderr",
     "output_type": "stream",
     "text": [
      "100%|██████████| 890/890 [00:00<00:00, 1765.69it/s]\n"
     ]
    },
    {
     "name": "stdout",
     "output_type": "stream",
     "text": [
      "Epoch 13: Validation Loss: 10.79510545231285\n"
     ]
    },
    {
     "name": "stderr",
     "output_type": "stream",
     "text": [
      "100%|██████████| 890/890 [00:00<00:00, 1782.00it/s]\n"
     ]
    },
    {
     "name": "stdout",
     "output_type": "stream",
     "text": [
      "Epoch 14: Validation Loss: 4.772888466949862\n"
     ]
    },
    {
     "name": "stderr",
     "output_type": "stream",
     "text": [
      "100%|██████████| 890/890 [00:00<00:00, 1805.56it/s]\n"
     ]
    },
    {
     "name": "stdout",
     "output_type": "stream",
     "text": [
      "Epoch 15: Validation Loss: 4.270214583861266\n"
     ]
    },
    {
     "name": "stderr",
     "output_type": "stream",
     "text": [
      "100%|██████████| 890/890 [00:00<00:00, 1534.18it/s]\n"
     ]
    },
    {
     "name": "stdout",
     "output_type": "stream",
     "text": [
      "Epoch 16: Validation Loss: 3.2921210608557256\n"
     ]
    },
    {
     "name": "stderr",
     "output_type": "stream",
     "text": [
      "100%|██████████| 890/890 [00:00<00:00, 1798.25it/s]\n"
     ]
    },
    {
     "name": "stdout",
     "output_type": "stream",
     "text": [
      "Epoch 17: Validation Loss: 7.138966273262863\n"
     ]
    },
    {
     "name": "stderr",
     "output_type": "stream",
     "text": [
      "100%|██████████| 890/890 [00:00<00:00, 1765.67it/s]\n"
     ]
    },
    {
     "name": "stdout",
     "output_type": "stream",
     "text": [
      "Epoch 18: Validation Loss: 3.0643474044600083\n"
     ]
    },
    {
     "name": "stderr",
     "output_type": "stream",
     "text": [
      "100%|██████████| 890/890 [00:00<00:00, 1810.75it/s]\n"
     ]
    },
    {
     "name": "stdout",
     "output_type": "stream",
     "text": [
      "Epoch 19: Validation Loss: 2.0926450696915233\n"
     ]
    },
    {
     "name": "stderr",
     "output_type": "stream",
     "text": [
      "100%|██████████| 890/890 [00:00<00:00, 1809.63it/s]\n"
     ]
    },
    {
     "name": "stdout",
     "output_type": "stream",
     "text": [
      "Epoch 20: Validation Loss: 2.53584037338876\n"
     ]
    },
    {
     "name": "stderr",
     "output_type": "stream",
     "text": [
      "100%|██████████| 890/890 [00:00<00:00, 1685.57it/s]\n"
     ]
    },
    {
     "name": "stdout",
     "output_type": "stream",
     "text": [
      "Epoch 21: Validation Loss: 2.1959470011176863\n"
     ]
    },
    {
     "name": "stderr",
     "output_type": "stream",
     "text": [
      "100%|██████████| 890/890 [00:00<00:00, 1806.95it/s]\n"
     ]
    },
    {
     "name": "stdout",
     "output_type": "stream",
     "text": [
      "Epoch 22: Validation Loss: 2.155921559059183\n"
     ]
    },
    {
     "name": "stderr",
     "output_type": "stream",
     "text": [
      "100%|██████████| 890/890 [00:00<00:00, 1818.33it/s]\n"
     ]
    },
    {
     "name": "stdout",
     "output_type": "stream",
     "text": [
      "Epoch 23: Validation Loss: 2.0655606510751534\n"
     ]
    },
    {
     "name": "stderr",
     "output_type": "stream",
     "text": [
      "100%|██████████| 890/890 [00:00<00:00, 1768.57it/s]\n"
     ]
    },
    {
     "name": "stdout",
     "output_type": "stream",
     "text": [
      "Epoch 24: Validation Loss: 2.1789850701836393\n"
     ]
    },
    {
     "name": "stderr",
     "output_type": "stream",
     "text": [
      "100%|██████████| 890/890 [00:00<00:00, 1807.09it/s]\n"
     ]
    },
    {
     "name": "stdout",
     "output_type": "stream",
     "text": [
      "Epoch 25: Validation Loss: 2.0264601270565814\n"
     ]
    },
    {
     "name": "stderr",
     "output_type": "stream",
     "text": [
      "100%|██████████| 890/890 [00:00<00:00, 1669.94it/s]\n"
     ]
    },
    {
     "name": "stdout",
     "output_type": "stream",
     "text": [
      "Epoch 26: Validation Loss: 1.9669937188712714\n"
     ]
    },
    {
     "name": "stderr",
     "output_type": "stream",
     "text": [
      "100%|██████████| 890/890 [00:00<00:00, 1775.64it/s]\n"
     ]
    },
    {
     "name": "stdout",
     "output_type": "stream",
     "text": [
      "Epoch 27: Validation Loss: 1.987319367718322\n"
     ]
    },
    {
     "name": "stderr",
     "output_type": "stream",
     "text": [
      "100%|██████████| 890/890 [00:00<00:00, 1803.57it/s]\n"
     ]
    },
    {
     "name": "stdout",
     "output_type": "stream",
     "text": [
      "Epoch 28: Validation Loss: 2.0050471883793777\n"
     ]
    },
    {
     "name": "stderr",
     "output_type": "stream",
     "text": [
      "100%|██████████| 890/890 [00:00<00:00, 1763.36it/s]\n"
     ]
    },
    {
     "name": "stdout",
     "output_type": "stream",
     "text": [
      "Epoch 29: Validation Loss: 2.0052908184640694\n"
     ]
    },
    {
     "name": "stderr",
     "output_type": "stream",
     "text": [
      "100%|██████████| 890/890 [00:00<00:00, 1805.29it/s]\n"
     ]
    },
    {
     "name": "stdout",
     "output_type": "stream",
     "text": [
      "Epoch 30: Validation Loss: 2.0049856289519066\n"
     ]
    },
    {
     "name": "stderr",
     "output_type": "stream",
     "text": [
      "100%|██████████| 890/890 [00:00<00:00, 1813.29it/s]\n"
     ]
    },
    {
     "name": "stdout",
     "output_type": "stream",
     "text": [
      "Epoch 31: Validation Loss: 2.005018534460617\n"
     ]
    },
    {
     "name": "stderr",
     "output_type": "stream",
     "text": [
      "100%|██████████| 890/890 [00:00<00:00, 1680.91it/s]\n"
     ]
    },
    {
     "name": "stdout",
     "output_type": "stream",
     "text": [
      "Epoch 32: Validation Loss: 2.005091381322651\n"
     ]
    },
    {
     "name": "stderr",
     "output_type": "stream",
     "text": [
      "100%|██████████| 890/890 [00:00<00:00, 1804.06it/s]\n"
     ]
    },
    {
     "name": "stdout",
     "output_type": "stream",
     "text": [
      "Epoch 33: Validation Loss: 2.0049368804662016\n"
     ]
    },
    {
     "name": "stderr",
     "output_type": "stream",
     "text": [
      "100%|██████████| 890/890 [00:00<00:00, 1809.86it/s]\n"
     ]
    },
    {
     "name": "stdout",
     "output_type": "stream",
     "text": [
      "Epoch 34: Validation Loss: 2.0051112767913577\n"
     ]
    },
    {
     "name": "stderr",
     "output_type": "stream",
     "text": [
      "100%|██████████| 890/890 [00:00<00:00, 1820.11it/s]\n"
     ]
    },
    {
     "name": "stdout",
     "output_type": "stream",
     "text": [
      "Epoch 35: Validation Loss: 2.005078244583769\n"
     ]
    },
    {
     "name": "stderr",
     "output_type": "stream",
     "text": [
      "100%|██████████| 890/890 [00:00<00:00, 1815.28it/s]\n"
     ]
    },
    {
     "name": "stdout",
     "output_type": "stream",
     "text": [
      "Epoch 36: Validation Loss: 2.0050539870536763\n"
     ]
    },
    {
     "name": "stderr",
     "output_type": "stream",
     "text": [
      "100%|██████████| 890/890 [00:00<00:00, 1699.90it/s]\n"
     ]
    },
    {
     "name": "stdout",
     "output_type": "stream",
     "text": [
      "Epoch 37: Validation Loss: 2.005039546502198\n"
     ]
    },
    {
     "name": "stderr",
     "output_type": "stream",
     "text": [
      "100%|██████████| 890/890 [00:00<00:00, 1819.32it/s]\n"
     ]
    },
    {
     "name": "stdout",
     "output_type": "stream",
     "text": [
      "Epoch 38: Validation Loss: 2.005156545114767\n"
     ]
    },
    {
     "name": "stderr",
     "output_type": "stream",
     "text": [
      "100%|██████████| 890/890 [00:00<00:00, 1810.27it/s]\n"
     ]
    },
    {
     "name": "stdout",
     "output_type": "stream",
     "text": [
      "Epoch 39: Validation Loss: 2.005382198313768\n"
     ]
    },
    {
     "name": "stderr",
     "output_type": "stream",
     "text": [
      "100%|██████████| 890/890 [00:00<00:00, 1820.79it/s]\n"
     ]
    },
    {
     "name": "stdout",
     "output_type": "stream",
     "text": [
      "Epoch 40: Validation Loss: 2.0053625212914032\n"
     ]
    },
    {
     "name": "stderr",
     "output_type": "stream",
     "text": [
      "100%|██████████| 890/890 [00:00<00:00, 1827.66it/s]\n"
     ]
    },
    {
     "name": "stdout",
     "output_type": "stream",
     "text": [
      "Epoch 41: Validation Loss: 2.0052082950532126\n"
     ]
    },
    {
     "name": "stderr",
     "output_type": "stream",
     "text": [
      "100%|██████████| 890/890 [00:00<00:00, 1813.85it/s]\n"
     ]
    },
    {
     "name": "stdout",
     "output_type": "stream",
     "text": [
      "Epoch 42: Validation Loss: 2.00501670388027\n"
     ]
    },
    {
     "name": "stderr",
     "output_type": "stream",
     "text": [
      "100%|██████████| 890/890 [00:00<00:00, 1686.99it/s]\n"
     ]
    },
    {
     "name": "stdout",
     "output_type": "stream",
     "text": [
      "Epoch 43: Validation Loss: 2.004863996156223\n"
     ]
    },
    {
     "name": "stderr",
     "output_type": "stream",
     "text": [
      "100%|██████████| 890/890 [00:00<00:00, 1802.74it/s]\n"
     ]
    },
    {
     "name": "stdout",
     "output_type": "stream",
     "text": [
      "Epoch 44: Validation Loss: 2.005002767627776\n"
     ]
    },
    {
     "name": "stderr",
     "output_type": "stream",
     "text": [
      "100%|██████████| 890/890 [00:00<00:00, 1828.12it/s]\n"
     ]
    },
    {
     "name": "stdout",
     "output_type": "stream",
     "text": [
      "Epoch 45: Validation Loss: 2.005283167224904\n"
     ]
    },
    {
     "name": "stderr",
     "output_type": "stream",
     "text": [
      "100%|██████████| 890/890 [00:00<00:00, 1832.64it/s]\n"
     ]
    },
    {
     "name": "stdout",
     "output_type": "stream",
     "text": [
      "Epoch 46: Validation Loss: 2.0050779137935937\n"
     ]
    },
    {
     "name": "stderr",
     "output_type": "stream",
     "text": [
      "100%|██████████| 890/890 [00:00<00:00, 1815.65it/s]\n"
     ]
    },
    {
     "name": "stdout",
     "output_type": "stream",
     "text": [
      "Epoch 47: Validation Loss: 2.0054527508650777\n"
     ]
    },
    {
     "name": "stderr",
     "output_type": "stream",
     "text": [
      "100%|██████████| 890/890 [00:00<00:00, 1691.20it/s]\n"
     ]
    },
    {
     "name": "stdout",
     "output_type": "stream",
     "text": [
      "Epoch 48: Validation Loss: 2.004923426043925\n"
     ]
    },
    {
     "name": "stderr",
     "output_type": "stream",
     "text": [
      "100%|██████████| 890/890 [00:00<00:00, 1827.93it/s]\n"
     ]
    },
    {
     "name": "stdout",
     "output_type": "stream",
     "text": [
      "Epoch 49: Validation Loss: 2.005534417342141\n"
     ]
    }
   ],
   "source": [
    "model = Model()\n",
    "criterion = nn.CrossEntropyLoss()\n",
    "optimizer = torch.optim.Adam(model.parameters(), lr=0.0005)\n",
    "\n",
    "# create dataloaders\n",
    "train_loader = DataLoader(train_dataset, batch_size=64, shuffle=True)\n",
    "valid_loader = DataLoader(valid_dataset, batch_size=64, shuffle=False)\n",
    "test_loader = DataLoader(test_dataset, batch_size=64, shuffle=False)\n",
    "\n",
    "# train the model, record the validation loss for the plots\n",
    "n_epochs = 50\n",
    "train_loss_hist, valid_loss_hist = [], []\n",
    "for epoch in range(n_epochs):\n",
    "    tot_train_loss, tot_valid_loss = 0, 0\n",
    "\n",
    "    model.train()\n",
    "    for x, y in tqdm(train_loader):\n",
    "        optimizer.zero_grad()\n",
    "        y_pred = model(x)\n",
    "        loss = criterion(y_pred, y)\n",
    "        tot_train_loss += loss.item()\n",
    "        loss.backward()\n",
    "        optimizer.step()\n",
    "    \n",
    "    model.eval()\n",
    "    with torch.no_grad():\n",
    "        tot_valid_loss = 0\n",
    "        for x, y in valid_loader:\n",
    "            y_pred = model(x)\n",
    "            valid_loss = criterion(y_pred, y)\n",
    "            tot_valid_loss += valid_loss.item()\n",
    "        print(f\"Epoch {epoch}: Validation Loss: {tot_valid_loss/len(valid_loader)}\")\n",
    "    train_loss_hist.append(tot_train_loss/len(train_loader))\n",
    "    valid_loss_hist.append(tot_valid_loss/len(valid_loader))"
   ]
  },
  {
   "cell_type": "code",
   "execution_count": 21,
   "metadata": {},
   "outputs": [
    {
     "data": {
      "image/png": "[encoded data removed]",
      "text/plain": [
       "<Figure size 640x480 with 1 Axes>"
      ]
     },
     "metadata": {},
     "output_type": "display_data"
    }
   ],
   "source": [
    "# plot the training and validation loss\n",
    "import matplotlib.pyplot as plt\n",
    "plt.plot(train_loss_hist, label='Training loss')\n",
    "plt.plot(valid_loss_hist, label='Validation loss')\n",
    "# set the x-axis to be in terms of epochs\n",
    "plt.xlabel('Epoch')\n",
    "plt.ylabel('Loss')\n",
    "# set the y-axis max to 400\n",
    "plt.legend()\n",
    "plt.show()"
   ]
  },
  {
   "cell_type": "code",
   "execution_count": 22,
   "metadata": {},
   "outputs": [
    {
     "name": "stdout",
     "output_type": "stream",
     "text": [
      "Test Loss: 2.0010919221408705\n",
      "Test Accuracy: 0.218242910998197\n"
     ]
    }
   ],
   "source": [
    "# test the model\n",
    "model.eval()\n",
    "with torch.no_grad():\n",
    "    test_loss = 0\n",
    "    correct = 0\n",
    "    total = 0\n",
    "    for x, y in test_loader:\n",
    "        y_pred = model(x)\n",
    "        test_loss += criterion(y_pred, y)\n",
    "        predicted = torch.argmax(y_pred, 1)\n",
    "        total += y.size(0)\n",
    "        correct += (predicted == y).sum().item()\n",
    "    print(f\"Test Loss: {test_loss.item()/len(test_loader)}\")\n",
    "    print(f\"Test Accuracy: {correct / total}\")"
   ]
  },
  {
   "cell_type": "code",
   "execution_count": null,
   "metadata": {},
   "outputs": [],
   "source": [
    "import pandas as pd\n",
    "import numpy as np\n",
    "import matplotlib.pyplot as plt\n",
    "\n",
    "from sklearn.model_selection import train_test_split\n",
    "from sklearn.neighbors import KNeighborsClassifier\n",
    "from sklearn.tree import DecisionTreeClassifier\n",
    "from sklearn.ensemble import RandomForestClassifier\n",
    "from sklearn.cluster import KMeans\n",
    "from sklearn.metrics import accuracy_score, classification_report, silhouette_score\n",
    "from sklearn.decomposition import PCA\n",
    "from sklearn.preprocessing import StandardScaler"
   ]
  },
  {
   "cell_type": "code",
   "execution_count": null,
   "metadata": {},
   "outputs": [],
   "source": [
    "# Load data directly from the CSV file\n",
    "data = pd.read_csv(\"hf://datasets/maharshipandya/spotify-tracks-dataset/dataset.csv\")\n",
    "\n",
    "# Features to drop that are non-numeric or identifiers\n",
    "columns_to_drop = ['Unnamed: 0', 'track_id', 'artists', 'album_name', 'track_name']\n",
    "data = data.drop(columns=columns_to_drop, errors='ignore')\n",
    "\n",
    "# Select the target columns\n",
    "features = data.drop(columns=['track_genre', 'mode'], errors='ignore')\n",
    "target_genre = data['track_genre']\n",
    "target_mode = data['mode']\n",
    "\n",
    "# Standardize the features\n",
    "scaler = StandardScaler()\n",
    "X_scaled = scaler.fit_transform(features)"
   ]
  },
  {
   "cell_type": "code",
   "execution_count": null,
   "metadata": {},
   "outputs": [],
   "source": [
    "# Apply PCA for dimensionality reduction (retain 95% of variance)\n",
    "pca = PCA(n_components=0.95)\n",
    "X_pca = pca.fit_transform(X_scaled)\n",
    "\n",
    "# Explained variance ratio\n",
    "explained_variance = pca.explained_variance_ratio_\n",
    "print(\"Explained variance ratio:\", explained_variance)\n",
    "print(f\"Number of components selected: {pca.n_components_}\")\n",
    "\n",
    "# PCA-transformed features\n",
    "print(\"PCA-transformed features shape:\", X_pca.shape)\n",
    "\n",
    "# Optimize KMeans clustering using sampling\n",
    "sample_size = 10000  # Adjust the sample size as needed\n",
    "if X_pca.shape[0] > sample_size:\n",
    "    sampled_indices = np.random.choice(X_pca.shape[0], size=sample_size, replace=False)\n",
    "    X_pca_sampled = X_pca[sampled_indices]\n",
    "else:\n",
    "    X_pca_sampled = X_pca"
   ]
  },
  {
   "cell_type": "code",
   "execution_count": null,
   "metadata": {},
   "outputs": [],
   "source": [
    "# Visualization: Original vs PCA-transformed Data (First 2 Dimensions)\n",
    "plt.figure(figsize=(12, 6))\n",
    "\n",
    "# Plot the original data (first 2 dimensions)\n",
    "plt.subplot(1, 2, 1)\n",
    "plt.scatter(X_scaled[:, 0], X_scaled[:, 1], alpha=0.5, label=\"Original Data\")\n",
    "plt.title(\"Original Data (First 2 Dimensions)\")\n",
    "plt.xlabel(\"Feature 1\")\n",
    "plt.ylabel(\"Feature 2\")\n",
    "plt.legend()\n",
    "\n",
    "# Plot the PCA-transformed data (first 2 components)\n",
    "plt.subplot(1, 2, 2)\n",
    "plt.scatter(X_pca[:, 0], X_pca[:, 1], alpha=0.5, label=\"PCA Data\", color='orange')\n",
    "plt.title(\"PCA-Transformed Data (First 2 Components)\")\n",
    "plt.xlabel(\"Principal Component 1\")\n",
    "plt.ylabel(\"Principal Component 2\")\n",
    "plt.legend()\n",
    "\n",
    "plt.tight_layout()\n",
    "plt.show()"
   ]
  },
  {
   "cell_type": "code",
   "execution_count": null,
   "metadata": {},
   "outputs": [],
   "source": [
    "# Perform KMeans clustering\n",
    "num_clusters = 3  # Choose the number of clusters (can be tuned)\n",
    "kmeans = KMeans(n_clusters=num_clusters, random_state=42)\n",
    "kmeans_labels = kmeans.fit_predict(X_pca)\n",
    "\n",
    "# Evaluate clustering with silhouette score\n",
    "silhouette_avg = silhouette_score(X_pca, kmeans_labels)\n",
    "print(f\"Silhouette Score for KMeans Clustering: {silhouette_avg}\")"
   ]
  },
  {
   "cell_type": "code",
   "execution_count": null,
   "metadata": {},
   "outputs": [],
   "source": [
    "# Visualization: KMeans clustering on PCA-transformed data\n",
    "plt.figure(figsize=(8, 6))\n",
    "plt.scatter(X_pca[:, 0], X_pca[:, 1], c=kmeans_labels, cmap='viridis', alpha=0.5)\n",
    "plt.title(\"KMeans Clustering on PCA-Transformed Data\")\n",
    "plt.xlabel(\"Principal Component 1\")\n",
    "plt.ylabel(\"Principal Component 2\")\n",
    "plt.colorbar(label=\"Cluster Label\")\n",
    "plt.show()"
   ]
  },
  {
   "cell_type": "code",
   "execution_count": null,
   "metadata": {},
   "outputs": [],
   "source": [
    "# Split the data for genre classification\n",
    "X_train_genre, X_test_genre, y_train_genre, y_test_genre = train_test_split(X_pca, target_genre, test_size=0.3, random_state=42)\n",
    "\n",
    "# Initialize classifiers\n",
    "knn_genre = KNeighborsClassifier()\n",
    "decision_tree_genre = DecisionTreeClassifier(random_state=42)\n",
    "random_forest_genre = RandomForestClassifier(n_estimators=10, random_state=42)\n",
    "\n",
    "# Train and evaluate KNN for genre\n",
    "knn_genre.fit(X_train_genre, y_train_genre)\n",
    "knn_genre_predictions = knn_genre.predict(X_test_genre)\n",
    "knn_genre_accuracy = accuracy_score(y_test_genre, knn_genre_predictions)\n",
    "print(\"KNN Genre Accuracy:\", knn_genre_accuracy)\n",
    "\n",
    "# Train and evaluate Decision Tree for genre\n",
    "decision_tree_genre.fit(X_train_genre, y_train_genre)\n",
    "dt_genre_predictions = decision_tree_genre.predict(X_test_genre)\n",
    "dt_genre_accuracy = accuracy_score(y_test_genre, dt_genre_predictions)\n",
    "print(\"Decision Tree Genre Accuracy:\", dt_genre_accuracy)\n",
    "\n",
    "# Train and evaluate Random Forest for genre\n",
    "random_forest_genre.fit(X_train_genre, y_train_genre)\n",
    "rf_genre_predictions = random_forest_genre.predict(X_test_genre)\n",
    "rf_genre_accuracy = accuracy_score(y_test_genre, rf_genre_predictions)\n",
    "print(\"Random Forest Genre Accuracy:\", rf_genre_accuracy)\n",
    "\n",
    "# Split the data for mode classification\n",
    "X_train_mode, X_test_mode, y_train_mode, y_test_mode = train_test_split(X_pca, target_mode, test_size=0.3, random_state=42)\n",
    "\n",
    "# Train and evaluate KNN for mode\n",
    "knn_mode = KNeighborsClassifier()\n",
    "knn_mode.fit(X_train_mode, y_train_mode)\n",
    "knn_mode_predictions = knn_mode.predict(X_test_mode)\n",
    "knn_mode_accuracy = accuracy_score(y_test_mode, knn_mode_predictions)\n",
    "print(\"KNN Mode Accuracy:\", knn_mode_accuracy)\n",
    "\n",
    "# Train and evaluate Decision Tree for mode\n",
    "decision_tree_mode = DecisionTreeClassifier(random_state=42)\n",
    "decision_tree_mode.fit(X_train_mode, y_train_mode)\n",
    "dt_mode_predictions = decision_tree_mode.predict(X_test_mode)\n",
    "dt_mode_accuracy = accuracy_score(y_test_mode, dt_mode_predictions)\n",
    "print(\"Decision Tree Mode Accuracy:\", dt_mode_accuracy)\n",
    "\n",
    "# Train and evaluate Random Forest for mode\n",
    "random_forest_mode = RandomForestClassifier(n_estimators=10, random_state=42)\n",
    "random_forest_mode.fit(X_train_mode, y_train_mode)\n",
    "rf_mode_predictions = random_forest_mode.predict(X_test_mode)\n",
    "rf_mode_accuracy = accuracy_score(y_test_mode, rf_mode_predictions)\n",
    "print(\"Random Forest Mode Accuracy:\", rf_mode_accuracy)\n"
   ]
  }
 ],
 "metadata": {
  "kernelspec": {
   "display_name": "Python 3",
   "language": "python",
   "name": "python3"
  },
  "language_info": {
   "codemirror_mode": {
    "name": "ipython",
    "version": 3
   },
   "file_extension": ".py",
   "mimetype": "text/x-python",
   "name": "python",
   "nbconvert_exporter": "python",
   "pygments_lexer": "ipython3",
   "version": "3.12.3"
  }
 },
 "nbformat": 4,
 "nbformat_minor": 2
}
