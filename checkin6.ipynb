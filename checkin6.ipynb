{
 "cells": [
  {
   "cell_type": "markdown",
   "metadata": {},
   "source": [
    "# Check-in 6: Neural Network"
   ]
  },
  {
   "cell_type": "code",
   "execution_count": 120,
   "metadata": {},
   "outputs": [],
   "source": [
    "import pandas as pd\n",
    "import numpy as np\n",
    "import torch\n",
    "from torch.utils.data import DataLoader, Dataset\n",
    "import torch.nn as nn\n",
    "import torch.nn.functional as F"
   ]
  },
  {
   "cell_type": "code",
   "execution_count": 121,
   "metadata": {},
   "outputs": [],
   "source": [
    "# load the dataset\n",
    "df = pd.read_csv(\"hf://datasets/maharshipandya/spotify-tracks-dataset/dataset.csv\")"
   ]
  },
  {
   "cell_type": "code",
   "execution_count": 122,
   "metadata": {},
   "outputs": [],
   "source": [
    "# remove all rows with missing values\n",
    "df.dropna(inplace=True) \n",
    "\n",
    "# remove all duplicate values based on track name and artist name\n",
    "df.drop_duplicates(subset=['track_name', 'artists'], inplace=True)"
   ]
  },
  {
   "cell_type": "code",
   "execution_count": null,
   "metadata": {},
   "outputs": [
    {
     "name": "stdout",
     "output_type": "stream",
     "text": [
      "{'rock_alt_metal': 0, 'pop_indie': 1, 'electronic_dance': 2, 'hiphop_rnb': 3, 'jazz_classical': 4, 'country_folk': 5, 'latin_world': 6, 'reggae': 7, 'ambient_chill': 8, 'thematic': 9}\n",
      "torch.Size([81343, 15]) torch.Size([81343])\n"
     ]
    }
   ],
   "source": [
    "genres = ['acoustic' 'afrobeat' 'alt-rock' 'alternative' 'ambient' 'anime'\n",
    "    'black-metal' 'bluegrass' 'blues' 'brazil' 'breakbeat' 'british'\n",
    "    'cantopop' 'chicago-house' 'children' 'chill' 'classical' 'club' 'comedy'\n",
    "    'country' 'dance' 'dancehall' 'death-metal' 'deep-house' 'detroit-techno'\n",
    "    'disco' 'disney' 'drum-and-bass' 'dub' 'dubstep' 'edm' 'electro'\n",
    "    'electronic' 'emo' 'folk' 'forro' 'french' 'funk' 'garage' 'german'\n",
    "    'gospel' 'goth' 'grindcore' 'groove' 'grunge' 'guitar' 'happy'\n",
    "    'hard-rock' 'hardcore' 'hardstyle' 'heavy-metal' 'hip-hop' 'honky-tonk'\n",
    "    'house' 'idm' 'indian' 'indie-pop' 'indie' 'industrial' 'iranian'\n",
    "    'j-dance' 'j-idol' 'j-pop' 'j-rock' 'jazz' 'k-pop' 'kids' 'latin'\n",
    "    'latino' 'malay' 'mandopop' 'metal' 'metalcore' 'minimal-techno' 'mpb'\n",
    "    'new-age' 'opera' 'pagode' 'party' 'piano' 'pop-film' 'pop' 'power-pop'\n",
    "    'progressive-house' 'psych-rock' 'punk-rock' 'punk' 'r-n-b' 'reggae'\n",
    "    'reggaeton' 'rock-n-roll' 'rock' 'rockabilly' 'romance' 'sad' 'salsa'\n",
    "    'samba' 'sertanejo' 'show-tunes' 'singer-songwriter' 'ska' 'sleep'\n",
    "    'songwriter' 'soul' 'spanish' 'study' 'swedish' 'synth-pop' 'tango'\n",
    "    'techno' 'trance' 'trip-hop' 'turkish' 'world-music'\n",
    " ]\n",
    "\n",
    "genre_mapping = {\n",
    "    \"rock_alt_metal\": [\n",
    "        \"alt-rock\", \"alternative\", \"black-metal\", \"death-metal\", \"emo\", \"goth\",\n",
    "        \"grindcore\", \"grunge\", \"hard-rock\", \"hardcore\", \"heavy-metal\", \"metal\",\n",
    "        \"metalcore\", \"psych-rock\", \"punk-rock\", \"punk\", \"rock\", \"rock-n-roll\", \"hardstyle\", \"j-rock\", \"rockabilly\"\n",
    "    ],\n",
    "    \"pop_indie\": [\n",
    "        \"pop\", \"power-pop\", \"pop-film\", \"indie\", \"indie-pop\", \"j-pop\", \"k-pop\",\n",
    "        \"cantopop\", \"mandopop\", \"synth-pop\"\n",
    "    ],\n",
    "    \"electronic_dance\": [\n",
    "        \"edm\", \"dance\", \"electro\", \"electronic\", \"trance\", \"techno\",\n",
    "        \"detroit-techno\", \"chicago-house\", \"progressive-house\", \"deep-house\",\n",
    "        \"house\", \"minimal-techno\", \"dubstep\", \"drum-and-bass\", \"breakbeat\",\n",
    "        \"dub\", \"idm\", \"disco\", \"garage\", \"groove\"\n",
    "    ],\n",
    "    \"hiphop_rnb\": [\n",
    "        \"hip-hop\", \"r-n-b\", \"soul\", \"funk\"\n",
    "    ],\n",
    "    \"jazz_classical\": [\n",
    "        \"jazz\", \"blues\", \"classical\", \"piano\"\n",
    "    ],\n",
    "    \"country_folk\": [\n",
    "        \"country\", \"folk\", \"bluegrass\", \"honky-tonk\", \"singer-songwriter\",\n",
    "        \"songwriter\", \"acoustic\"\n",
    "    ],\n",
    "    \"latin_world\": [\n",
    "        \"latin\", \"latino\", \"afrobeat\", \"brazil\", \"mpb\", \"samba\", \"salsa\", \"tango\",\n",
    "        \"pagode\", \"forro\", \"sertanejo\", \"reggaeton\", \"indian\", \"iranian\",\n",
    "        \"turkish\", \"french\", \"german\", \"british\", \"swedish\", \"malay\", \"world-music\"\n",
    "    ],\n",
    "    \"reggae\": [\n",
    "        \"reggae\", \"dancehall\"\n",
    "    ],\n",
    "    \"ambient_chill\": [\n",
    "        \"ambient\", \"chill\", \"new-age\", \"trip-hop\"\n",
    "    ],\n",
    "    \"thematic\": [\n",
    "        \"anime\", \"children\", \"comedy\", \"club\", \"disney\", \"gospel\", \"guitar\",\n",
    "        \"happy\", \"industrial\", \"j-dance\", \"j-idol\", \"kids\", \"opera\", \"party\",\n",
    "        \"romance\", \"sad\", \"show-tunes\", \"ska\", \"sleep\", \"spanish\", \"study\"\n",
    "    ]\n",
    "}\n",
    "\n",
    "\n",
    "flattened_mapping = {genre: category for category, subgenres in genre_mapping.items() for genre in subgenres}\n",
    "\n",
    "# create a dictionary with keys being numbers 0-9 and the values being each key in genre_mapping\n",
    "genres = [genre for genre, _ in genre_mapping.items()]\n",
    "genre_encoding = {genre: i for i, genre in enumerate(genres)}\n",
    "\n",
    "print(genre_encoding)\n",
    "\n",
    "df['track_genre'] = df['track_genre'].apply(lambda x: flattened_mapping[x])\n",
    "\n",
    "\n",
    "# genre_encoded\n",
    "df_encoded = df\n",
    "df_encoded['track_genre'] = df_encoded['track_genre'].apply(lambda x: genre_encoding[x])\n",
    "\n",
    "# shuffle the dataframe\n",
    "df_encoded = df_encoded.sample(frac=1).reset_index(drop=True)\n",
    "\n",
    "# separate the features and the target variable (track_genre) and convert to tensors\n",
    "X = torch.tensor(df_encoded.drop(columns=['track_genre']).select_dtypes(include=[np.number]).to_numpy(), dtype=torch.float32)\n",
    "y = torch.tensor(df_encoded['track_genre'].to_numpy(), dtype=torch.long)\n",
    "\n",
    "print(X.shape, y.shape)\n",
    "\n"
   ]
  },
  {
   "cell_type": "markdown",
   "metadata": {},
   "source": [
    "### create dataset, split\n",
    "\n",
    "https://pytorch.org/tutorials/beginner/basics/data_tutorial.html?highlight=dataloader"
   ]
  },
  {
   "cell_type": "code",
   "execution_count": 124,
   "metadata": {},
   "outputs": [],
   "source": [
    "class Track_dataset(Dataset):\n",
    "    def __init__(self, X, y):\n",
    "        self.X = X\n",
    "        self.y = y\n",
    "\n",
    "    def __len__(self):\n",
    "        return len(self.y)\n",
    "\n",
    "    def __getitem__(self, idx):\n",
    "        return self.X[idx], self.y[idx]"
   ]
  },
  {
   "cell_type": "code",
   "execution_count": 125,
   "metadata": {},
   "outputs": [
    {
     "name": "stdout",
     "output_type": "stream",
     "text": [
      "torch.Size([56940, 15]) torch.Size([12201, 15]) torch.Size([12202, 15])\n",
      "torch.Size([56940]) torch.Size([12201]) torch.Size([12202])\n"
     ]
    }
   ],
   "source": [
    "# split the dataset into train, valid, and test sets\n",
    "train_size = int(0.7 * len(df))\n",
    "valid_size = int(0.15 * len(df))\n",
    "test_size = len(df) - train_size - valid_size\n",
    "X_train, X_valid, X_test = torch.split(X, [train_size, valid_size, test_size])\n",
    "print(X_train.shape, X_valid.shape, X_test.shape)\n",
    "y_train, y_valid, y_test = torch.split(y, [train_size, valid_size, test_size])\n",
    "print(y_train.shape, y_valid.shape, y_test.shape)\n",
    "\n",
    "\n",
    "train_dataset = Track_dataset(X_train, y_train)\n",
    "valid_dataset = Track_dataset(X_valid, y_valid)\n",
    "test_dataset = Track_dataset(X_test, y_test)"
   ]
  },
  {
   "cell_type": "markdown",
   "metadata": {},
   "source": [
    "### define model"
   ]
  },
  {
   "cell_type": "code",
   "execution_count": 169,
   "metadata": {},
   "outputs": [],
   "source": [
    "# 1d CNN model\n",
    "class CNN(nn.Module):\n",
    "    def __init__(self):\n",
    "        super(CNN, self).__init__()\n",
    "        self.conv1 = nn.Conv1d(1, 32, kernel_size=3, stride=1, padding='same')\n",
    "        self.conv2 = nn.Conv1d(32, 64, kernel_size=3, stride=1, padding='same')\n",
    "        self.conv3 = nn.Conv1d(64, 128, kernel_size=3, stride=1, padding='same')\n",
    "        self.fc1 = nn.Linear(128, 64)\n",
    "        self.fc2 = nn.Linear(64, 10)\n",
    "\n",
    "    def forward(self, x):\n",
    "        x = x.unsqueeze(1)\n",
    "        x = F.relu(self.conv1(x))\n",
    "        x = F.max_pool1d(x, 2)\n",
    "        x = F.relu(self.conv2(x))\n",
    "        x = F.max_pool1d(x, 2)\n",
    "        x = F.relu(self.conv3(x))\n",
    "        x = F.max_pool1d(x, 2)\n",
    "        x = x.view(64, -1)\n",
    "        x = F.relu(self.fc1(x))\n",
    "        x = self.fc2(x)\n",
    "        return x"
   ]
  },
  {
   "cell_type": "markdown",
   "metadata": {},
   "source": [
    "### train the model"
   ]
  },
  {
   "cell_type": "code",
   "execution_count": 176,
   "metadata": {},
   "outputs": [
    {
     "name": "stdout",
     "output_type": "stream",
     "text": [
      "Epoch 0: Validation Loss: 2.202393500428451\n",
      "Epoch 1: Validation Loss: 2.0643985773387707\n",
      "Epoch 2: Validation Loss: 2.0208921871687235\n",
      "Epoch 3: Validation Loss: 2.0131726170841016\n",
      "Epoch 4: Validation Loss: 2.0099976395305834\n",
      "Epoch 5: Validation Loss: 2.0100855632832175\n",
      "Epoch 6: Validation Loss: 2.0099416977480837\n",
      "Epoch 7: Validation Loss: 2.009982823070727\n",
      "Epoch 8: Validation Loss: 2.0100166565493534\n",
      "Epoch 9: Validation Loss: 2.0100755898576033\n"
     ]
    }
   ],
   "source": [
    "model = CNN()\n",
    "criterion = nn.CrossEntropyLoss()\n",
    "optimizer = torch.optim.Adam(model.parameters(), lr=0.001)\n",
    "\n",
    "# create dataloaders\n",
    "train_loader = DataLoader(train_dataset, batch_size=64, shuffle=True, drop_last=True)\n",
    "valid_loader = DataLoader(valid_dataset, batch_size=64, shuffle=False, drop_last=True)\n",
    "test_loader = DataLoader(test_dataset, batch_size=64, shuffle=False, drop_last=True)\n",
    "\n",
    "# train the model, record the validation loss for the plots\n",
    "n_epochs = 10\n",
    "train_loss_hist, valid_loss_hist = [], []\n",
    "for epoch in range(n_epochs):\n",
    "    tot_train_loss, tot_valid_loss = 0, 0\n",
    "\n",
    "    model.train()\n",
    "    for x, y in train_loader:\n",
    "        optimizer.zero_grad()\n",
    "        y_pred = model(x)\n",
    "        loss = criterion(y_pred, y)\n",
    "        tot_train_loss += loss.item()\n",
    "        loss.backward()\n",
    "        optimizer.step()\n",
    "    \n",
    "    model.eval()\n",
    "    with torch.no_grad():\n",
    "        tot_valid_loss = 0\n",
    "        for x, y in valid_loader:\n",
    "            y_pred = model(x)\n",
    "            valid_loss = criterion(y_pred, y)\n",
    "            tot_valid_loss += valid_loss.item()\n",
    "        print(f\"Epoch {epoch}: Validation Loss: {tot_valid_loss/len(valid_loader)}\")\n",
    "    train_loss_hist.append(tot_train_loss/len(train_loader))\n",
    "    valid_loss_hist.append(tot_valid_loss/len(valid_loader))"
   ]
  },
  {
   "cell_type": "code",
   "execution_count": 180,
   "metadata": {},
   "outputs": [
    {
     "data": {
      "image/png": "[encoded data removed]",
      "text/plain": [
       "<Figure size 640x480 with 1 Axes>"
      ]
     },
     "metadata": {},
     "output_type": "display_data"
    }
   ],
   "source": [
    "# plot the training and validation loss\n",
    "import matplotlib.pyplot as plt\n",
    "plt.plot(train_loss_hist, label='Training loss')\n",
    "plt.plot(valid_loss_hist, label='Validation loss')\n",
    "# set the x-axis to be in terms of epochs\n",
    "plt.xlabel('Epoch')\n",
    "plt.ylabel('Loss')\n",
    "# set the y-axis max to 400\n",
    "plt.ylim(2, 2.5)\n",
    "plt.legend()\n",
    "plt.show()"
   ]
  },
  {
   "cell_type": "code",
   "execution_count": 182,
   "metadata": {},
   "outputs": [
    {
     "name": "stdout",
     "output_type": "stream",
     "text": [
      "Test Loss: 379.9164123535156\n",
      "Test Accuracy: 0.21480263157894736\n"
     ]
    }
   ],
   "source": [
    "# test the model\n",
    "model.eval()\n",
    "with torch.no_grad():\n",
    "    test_loss = 0\n",
    "    correct = 0\n",
    "    total = 0\n",
    "    for x, y in test_loader:\n",
    "        y_pred = model(x)\n",
    "        test_loss += criterion(y_pred, y)\n",
    "        _, predicted = torch.max(y_pred, 1)\n",
    "        # print(predicted)\n",
    "        total += y.size(0)\n",
    "        correct += (predicted == y).sum().item()\n",
    "    print(f\"Test Loss: {test_loss.item()}\")\n",
    "    print(f\"Test Accuracy: {correct / total}\")"
   ]
  },
  {
   "cell_type": "code",
   "execution_count": null,
   "metadata": {},
   "outputs": [],
   "source": []
  }
 ],
 "metadata": {
  "kernelspec": {
   "display_name": "Python 3",
   "language": "python",
   "name": "python3"
  },
  "language_info": {
   "codemirror_mode": {
    "name": "ipython",
    "version": 3
   },
   "file_extension": ".py",
   "mimetype": "text/x-python",
   "name": "python",
   "nbconvert_exporter": "python",
   "pygments_lexer": "ipython3",
   "version": "3.12.3"
  }
 },
 "nbformat": 4,
 "nbformat_minor": 2
}
